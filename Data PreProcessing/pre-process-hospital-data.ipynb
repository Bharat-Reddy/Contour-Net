{
 "cells": [
  {
   "cell_type": "code",
   "execution_count": 1,
   "metadata": {},
   "outputs": [],
   "source": [
    "import matplotlib\n",
    "matplotlib.use('Agg')\n",
    "%matplotlib inline\n",
    "import matplotlib.pyplot as plt\n",
    "# plt.switch_backend('Agg')\n",
    "plt.rcParams['image.cmap'] = 'gray' \n",
    "import numpy as np\n",
    "import os\n",
    "from glob import glob\n",
    "#import nrrd\n",
    "import numpy as np\n",
    "import SimpleITK as sitk\n",
    "SMALL_SIZE = 14\n",
    "MEDIUM_SIZE = 16\n",
    "BIGGER_SIZE = 18\n",
    "\n",
    "plt.rc('font', size=SMALL_SIZE)          # controls default text sizes\n",
    "plt.rc('axes', titlesize=SMALL_SIZE)     # fontsize of the axes title\n",
    "plt.rc('axes', labelsize=MEDIUM_SIZE)    # fontsize of the x and y labels\n",
    "plt.rc('xtick', labelsize=SMALL_SIZE)    # fontsize of the tick labels\n",
    "plt.rc('ytick', labelsize=SMALL_SIZE)    # fontsize of the tick labels\n",
    "plt.rc('legend', fontsize=SMALL_SIZE)    # legend fontsize\n",
    "plt.rc('figure', titlesize=BIGGER_SIZE)  # fontsize of the figure title\n",
    "\n",
    "from ipywidgets import interact, interactive\n",
    "from ipywidgets import widgets\n",
    "import scipy\n",
    "from scipy.ndimage.interpolation import zoom\n",
    "import math\n",
    "from skimage import filters\n",
    "from skimage import exposure\n",
    "from skimage.morphology import binary_opening\n",
    "def myshow(img, title=None, margin=0.05, dpi=80 ):\n",
    "    nda = sitk.GetArrayFromImage(img)\n",
    "    spacing = img.GetSpacing()\n",
    "    slicer = False\n",
    "    if nda.ndim == 3:\n",
    "        # fastest dim, either component or x\n",
    "        c = nda.shape[-1]\n",
    "        # the the number of components is 3 or 4 consider it an RGB image\n",
    "        if not c in (3,4):\n",
    "            slicer = True\n",
    "    elif nda.ndim == 4:\n",
    "        c = nda.shape[-1]\n",
    "        if not c in (3,4):\n",
    "            raise Runtime(\"Unable to show 3D-vector Image\")\n",
    "        # take a z-slice\n",
    "        slicer = True\n",
    "    if (slicer):\n",
    "        ysize = nda.shape[1]\n",
    "        xsize = nda.shape[2]\n",
    "    else:\n",
    "        ysize = nda.shape[0]\n",
    "        xsize = nda.shape[1]\n",
    "    # Make a figure big enough to accomodate an axis of xpixels by ypixels\n",
    "    # as well as the ticklabels, etc...\n",
    "    figsize = (1 + margin) * ysize / dpi, (1 + margin) * xsize / dpi\n",
    "    def callback(z=None):\n",
    "        extent = (0, xsize*spacing[1], ysize*spacing[0], 0)\n",
    "        fig = plt.figure(figsize=figsize, dpi=dpi)\n",
    "        # Make the axis the right size...\n",
    "        ax = fig.add_axes([margin, margin, 1 - 2*margin, 1 - 2*margin])\n",
    "        plt.set_cmap(\"gray\")\n",
    "        if z is None:\n",
    "            ax.imshow(nda,extent=extent,interpolation=None)\n",
    "        else:\n",
    "            ax.imshow(nda[z,...],extent=extent,interpolation=None)\n",
    "        if title:\n",
    "            plt.title(title)\n",
    "        plt.show()\n",
    "    if slicer:\n",
    "        interact(callback, z=(0,nda.shape[0]-1))\n",
    "    else:\n",
    "        callback()\n",
    "def myshow3d(img, xslices=[], yslices=[], zslices=[], title=None, margin=0.05, dpi=80):\n",
    "    size = img.GetSize()\n",
    "    img_xslices = [img[s,:,:] for s in xslices]\n",
    "    img_yslices = [img[:,s,:] for s in yslices]\n",
    "    img_zslices = [img[:,:,s] for s in zslices]\n",
    "    maxlen = max(len(img_xslices), len(img_yslices), len(img_zslices))\n",
    "    img_null = sitk.Image([0,0], img.GetPixelID(), img.GetNumberOfComponentsPerPixel())\n",
    "    img_slices = []\n",
    "    d = 0\n",
    "    if len(img_xslices):\n",
    "        img_slices += img_xslices + [img_null]*(maxlen-len(img_xslices))\n",
    "        d += 1\n",
    "    if len(img_yslices):\n",
    "        img_slices += img_yslices + [img_null]*(maxlen-len(img_yslices))\n",
    "        d += 1\n",
    "    if len(img_zslices):\n",
    "        img_slices += img_zslices + [img_null]*(maxlen-len(img_zslices))\n",
    "        d +=1\n",
    "    if maxlen != 0:\n",
    "        if img.GetNumberOfComponentsPerPixel() == 1:\n",
    "            img = sitk.Tile(img_slices, [maxlen,d])\n",
    "        #TODO check in code to get Tile Filter working with VectorImages\n",
    "        else:\n",
    "            img_comps = []\n",
    "            for i in range(0,img.GetNumberOfComponentsPerPixel()):\n",
    "                img_slices_c = [sitk.VectorIndexSelectionCast(s, i) for s in img_slices]\n",
    "                img_comps.append(sitk.Tile(img_slices_c, [maxlen,d]))\n",
    "            img = sitk.Compose(img_comps)\n",
    "    myshow(img, title, margin, dpi)"
   ]
  },
  {
   "cell_type": "code",
   "execution_count": 2,
   "metadata": {},
   "outputs": [],
   "source": [
    "def npresample(imgs, spacing, new_spacing, order=2): # new_spacing with z y x consist with imgs\n",
    "    assert len(imgs.shape) == 3\n",
    "#     print(spacing, new_spacing, imgs.shape, type(spacing[0]), type(new_spacing[0]))\n",
    "    new_shape = np.round(imgs.shape * spacing / new_spacing)\n",
    "#     print(new_shape)\n",
    "    true_spacing = spacing * imgs.shape / new_shape\n",
    "    resize_factor = spacing / new_spacing\n",
    "#     print(resize_factor)\n",
    "    imgs = zoom(imgs, resize_factor, mode = 'nearest',order=order)\n",
    "#     print(imgs.shape)\n",
    "    return np.array(imgs), true_spacing\n",
    "def getminmaxannotation(segpth, spacing, newspacing=None):\n",
    "    minxlst, minylst, minzlst, maxxlst, maxylst, maxzlst = [], [], [], [], [], []\n",
    "    for gtfnm in ['BrainStem', 'Chiasm', 'Mandible', 'OpticNerve_L', 'OpticNerve_R', 'Parotid_L', \\\n",
    "                      'Parotid_R', 'Submandibular_L', 'Submandibular_R']:\n",
    "        if not os.path.exists(segpth+gtfnm+'.nrrd'): \n",
    "            print('miss ', fnm, gtfnm)\n",
    "            continue\n",
    "        sitkimggt = sitk.ReadImage(segpth+gtfnm+'.nrrd')\n",
    "        data = sitk.GetArrayFromImage(sitkimggt)\n",
    "#         spacing = sitkimggt.GetSpacing()\n",
    "        zflg, xflg, yflg = True, True, True\n",
    "        minxlst.append(0)\n",
    "        minylst.append(0)\n",
    "        minzlst.append(0)\n",
    "        maxxlst.append(data.shape[1])\n",
    "        maxylst.append(data.shape[2])\n",
    "        maxzlst.append(data.shape[0])\n",
    "        for zidx in range(data.shape[0]):\n",
    "            if zflg and data[zidx, :, :].sum() != 0:\n",
    "                minzlst[-1] = zidx\n",
    "                zflg = False\n",
    "            elif zflg is False and data[zidx, :, :].sum() == 0:\n",
    "                maxzlst[-1] = zidx\n",
    "                break\n",
    "        for yidx in range(data.shape[1]):\n",
    "            if yflg and data[minzlst[-1]:maxzlst[-1], yidx, :].sum() != 0:\n",
    "                minylst[-1] = yidx\n",
    "                yflg = False\n",
    "            elif yflg is False and data[minzlst[-1]:maxzlst[-1], yidx, :].sum() == 0:\n",
    "                maxylst[-1] = yidx\n",
    "                break\n",
    "        for xidx in range(data.shape[2]):\n",
    "            if xflg and data[minzlst[-1]:maxzlst[-1], minylst[-1]:maxylst[-1], xidx].sum() != 0:\n",
    "                minxlst[-1] = xidx\n",
    "                xflg = False\n",
    "            elif xflg is False and data[minzlst[-1]:maxzlst[-1], minylst[-1]:maxylst[-1], xidx].sum() == 0:\n",
    "                maxxlst[-1] = xidx\n",
    "                break\n",
    "        if newspacing is not None:\n",
    "            minxlst[-1] = int(round(minxlst[-1]*1.0 * spacing[0] / newspacing[0]))\n",
    "            maxxlst[-1] = int(round(maxxlst[-1]*1.0 * spacing[0] / newspacing[0]))+1\n",
    "            minylst[-1] = int(round(minylst[-1]*1.0 * spacing[1] / newspacing[1]))\n",
    "            maxylst[-1] = int(round(maxylst[-1]*1.0 * spacing[1] / newspacing[1]))+1\n",
    "            minzlst[-1] = int(round(minzlst[-1]*1.0 * spacing[2] / newspacing[2]))\n",
    "            maxzlst[-1] = int(round(maxzlst[-1]*1.0 * spacing[2] / newspacing[2]))+1\n",
    "        print(gtfnm, minzlst[-1], maxzlst[-1], minylst[-1], maxylst[-1], minxlst[-1], maxxlst[-1])\n",
    "    print('minz %d, maxz %d, miny %d, maxy %d, minx %d, maxx %d', min(minzlst), max(maxzlst), min(minylst), \\\n",
    "          max(maxylst), min(minxlst), max(maxxlst))\n",
    "    return min(minzlst), max(maxzlst), min(minylst), max(maxylst), min(minxlst), max(maxxlst)\n",
    "def imhist3d(im, nbin=1024):\n",
    "    # calculates normalized histogram of an image\n",
    "    m, n, z = im.shape\n",
    "    h = [0.0] * (nbin + 1)\n",
    "    for i in range(m):\n",
    "        for j in range(n):\n",
    "            for k in range(z):\n",
    "                if im[i, j, k] != 0:\n",
    "                    h[int(round(im[i, j, k]*nbin))]+=1\n",
    "    return np.array(h)/(sum(h))\n",
    "def cumsum(h):\n",
    "    # finds cumulative sum of a numpy array, list\n",
    "    return [sum(h[:i+1]) for i in range(len(h))]\n",
    "def histeq(im, nbin=1024):\n",
    "    #calculate Histogram\n",
    "    h = imhist3d(im, nbin=nbin)\n",
    "    cdf = np.array(cumsum(h)) #cumulative distribution function\n",
    "    sk = np.array(cdf) #finding transfer function values\n",
    "    s1, s2, s3 = im.shape\n",
    "    Y = np.zeros_like(im)\n",
    "    # applying transfered values for each pixels\n",
    "    for i in range(s1):\n",
    "        for j in range(s2):\n",
    "            for k in range(s3):\n",
    "                if im[i,j,k] == 0:\n",
    "                    Y[i,j,k] = 0\n",
    "                else:\n",
    "                    Y[i, j, k] = sk[int(round(im[i, j, k]*nbin))]\n",
    "    H = imhist3d(Y)\n",
    "    #return transformed image, original and new istogram, \n",
    "    # and transform function\n",
    "    return Y , h, H, sk, cumsum(imhist3d(Y, nbin=nbin))\n",
    "path = '/home/bharat/Desktop/FYP/structures_extraction/hospital-data/'\n",
    "pidlst = [pid for pid in os.listdir(path)]\n",
    "minxspace, minyspace, minzspace = 0.7599999904632568, 0.7599999904632568, 1.249632716178894\n",
    "structurefnmlst = ('BrainStem', 'Chiasm', 'Mandible', 'OpticNerve_L', 'OpticNerve_R', 'Parotid_L', 'Parotid_R', \\\n",
    "                   'Submandibular_L', 'Submandibular_R')"
   ]
  },
  {
   "cell_type": "code",
   "execution_count": 3,
   "metadata": {},
   "outputs": [
    {
     "data": {
      "text/plain": [
       "['18RT0455',\n",
       " '19RT0893',\n",
       " '19RT0318',\n",
       " '19RT0927',\n",
       " '18RT0373',\n",
       " '19RT0648',\n",
       " '19RT0678',\n",
       " '18RT0207']"
      ]
     },
     "execution_count": 3,
     "metadata": {},
     "output_type": "execute_result"
    }
   ],
   "source": [
    "pidlst"
   ]
  },
  {
   "cell_type": "code",
   "execution_count": 39,
   "metadata": {},
   "outputs": [
    {
     "name": "stdout",
     "output_type": "stream",
     "text": [
      "processing %s 18RT0207\n"
     ]
    },
    {
     "data": {
      "image/png": "[encoded data removed]",
      "text/plain": [
       "<Figure size 432x288 with 1 Axes>"
      ]
     },
     "metadata": {
      "needs_background": "light"
     },
     "output_type": "display_data"
    },
    {
     "name": "stdout",
     "output_type": "stream",
     "text": [
      "BrainStem 103 122 174 207 242 282\n",
      "miss  18RT0207 Chiasm\n",
      "Mandible 77 91 92 168 216 307\n",
      "miss  18RT0207 OpticNerve_L\n",
      "miss  18RT0207 OpticNerve_R\n",
      "Parotid_L 94 109 154 195 301 323\n",
      "Parotid_R 92 111 158 194 198 228\n",
      "miss  18RT0207 Submandibular_L\n",
      "miss  18RT0207 Submandibular_R\n",
      "minz %d, maxz %d, miny %d, maxy %d, minx %d, maxx %d 77 122 92 207 198 323\n"
     ]
    }
   ],
   "source": [
    "idx = 0\n",
    "fnm = pidlst[idx]\n",
    "print('processing %s', fnm)\n",
    "#assert not fnm.startswith('HN-HMR')\n",
    "sitkimg = sitk.ReadImage(path+fnm+'/image.nrrd')\n",
    "nparr = sitk.GetArrayFromImage(sitkimg)\n",
    "plt.hist(nparr.reshape((-1)), bins=1000)\n",
    "plt.show()\n",
    "minv = -1024.0\n",
    "maxv = nparr.max()\n",
    "#maxv = min(-256, nparr.max())\n",
    "nparr[nparr < minv] = minv\n",
    "#maxv = min(-256, nparr.max())\n",
    "#nparr[nparr > maxv] = maxv\n",
    "nparr = (nparr - minv)*1.0 / (1.0*(maxv - minv))\n",
    "minz0, maxz0, miny0, maxy0, minx0, maxx0 = getminmaxannotation(path+fnm+'/structures/', \\\n",
    "                                                               np.array([minxspace, minyspace, minzspace]), \\\n",
    "                                                               np.array([minxspace, minyspace, minzspace]))"
   ]
  },
  {
   "cell_type": "code",
   "execution_count": 40,
   "metadata": {
    "scrolled": false
   },
   "outputs": [
    {
     "data": {
      "application/vnd.jupyter.widget-view+json": {
       "model_id": "5e359e32fbf445e78bf670b51ea8adfc",
       "version_major": 2,
       "version_minor": 0
      },
      "text/plain": [
       "interactive(children=(IntSlider(value=83, description='z', max=166), Output()), _dom_classes=('widget-interact…"
      ]
     },
     "metadata": {},
     "output_type": "display_data"
    }
   ],
   "source": [
    "minz, maxz, miny, maxy, minx, maxx = 50, 140, 70, 230, 170, 340\n",
    "assert minz < minz0 and maxz > maxz0 and miny < miny0 and maxy > maxy0 and minx < minx0 and maxx > maxx0\n",
    "nparrplt = np.array(nparr)\n",
    "nparrplt[:, maxy, :] = 1\n",
    "nparrplt[:, miny, :] = 1\n",
    "nparrplt[:, :, maxx] = 1\n",
    "nparrplt[:, :, minx] = 1\n",
    "myshow3d(sitk.GetImageFromArray(nparrplt))"
   ]
  },
  {
   "cell_type": "code",
   "execution_count": 41,
   "metadata": {},
   "outputs": [],
   "source": [
    "nparr = np.array(nparr[minz:maxz, miny:maxy, minx:maxx])"
   ]
  },
  {
   "cell_type": "code",
   "execution_count": 42,
   "metadata": {
    "scrolled": true
   },
   "outputs": [
    {
     "data": {
      "application/vnd.jupyter.widget-view+json": {
       "model_id": "fa7ca6bf273948d9a134b582060d6b20",
       "version_major": 2,
       "version_minor": 0
      },
      "text/plain": [
       "interactive(children=(IntSlider(value=44, description='z', max=89), Output()), _dom_classes=('widget-interact'…"
      ]
     },
     "metadata": {},
     "output_type": "display_data"
    },
    {
     "name": "stdout",
     "output_type": "stream",
     "text": [
      "Oesophagus.nrrd\n"
     ]
    },
    {
     "data": {
      "text/plain": [
       "<Figure size 432x288 with 0 Axes>"
      ]
     },
     "metadata": {},
     "output_type": "display_data"
    },
    {
     "data": {
      "application/vnd.jupyter.widget-view+json": {
       "model_id": "32a4e36c384a44a5b69118e540864810",
       "version_major": 2,
       "version_minor": 0
      },
      "text/plain": [
       "interactive(children=(IntSlider(value=44, description='z', max=89), Output()), _dom_classes=('widget-interact'…"
      ]
     },
     "metadata": {},
     "output_type": "display_data"
    },
    {
     "name": "stdout",
     "output_type": "stream",
     "text": [
      "PCM.nrrd\n"
     ]
    },
    {
     "data": {
      "text/plain": [
       "<Figure size 432x288 with 0 Axes>"
      ]
     },
     "metadata": {},
     "output_type": "display_data"
    },
    {
     "data": {
      "application/vnd.jupyter.widget-view+json": {
       "model_id": "886300ad3dce474dbec913952f063d02",
       "version_major": 2,
       "version_minor": 0
      },
      "text/plain": [
       "interactive(children=(IntSlider(value=44, description='z', max=89), Output()), _dom_classes=('widget-interact'…"
      ]
     },
     "metadata": {},
     "output_type": "display_data"
    },
    {
     "name": "stdout",
     "output_type": "stream",
     "text": [
      "Inner Ear Right.nrrd\n"
     ]
    },
    {
     "data": {
      "text/plain": [
       "<Figure size 432x288 with 0 Axes>"
      ]
     },
     "metadata": {},
     "output_type": "display_data"
    },
    {
     "data": {
      "application/vnd.jupyter.widget-view+json": {
       "model_id": "b7835ac96f7f48229ec09c3ccb17779a",
       "version_major": 2,
       "version_minor": 0
      },
      "text/plain": [
       "interactive(children=(IntSlider(value=44, description='z', max=89), Output()), _dom_classes=('widget-interact'…"
      ]
     },
     "metadata": {},
     "output_type": "display_data"
    },
    {
     "name": "stdout",
     "output_type": "stream",
     "text": [
      "patient.nrrd\n"
     ]
    },
    {
     "data": {
      "text/plain": [
       "<Figure size 432x288 with 0 Axes>"
      ]
     },
     "metadata": {},
     "output_type": "display_data"
    },
    {
     "data": {
      "application/vnd.jupyter.widget-view+json": {
       "model_id": "6ab2ad4a3f184f228274c23446618d71",
       "version_major": 2,
       "version_minor": 0
      },
      "text/plain": [
       "interactive(children=(IntSlider(value=44, description='z', max=89), Output()), _dom_classes=('widget-interact'…"
      ]
     },
     "metadata": {},
     "output_type": "display_data"
    },
    {
     "name": "stdout",
     "output_type": "stream",
     "text": [
      "BrainStem.nrrd\n"
     ]
    },
    {
     "data": {
      "text/plain": [
       "<Figure size 432x288 with 0 Axes>"
      ]
     },
     "metadata": {},
     "output_type": "display_data"
    },
    {
     "data": {
      "application/vnd.jupyter.widget-view+json": {
       "model_id": "a7cf5a0a30094a84820a678949941c82",
       "version_major": 2,
       "version_minor": 0
      },
      "text/plain": [
       "interactive(children=(IntSlider(value=44, description='z', max=89), Output()), _dom_classes=('widget-interact'…"
      ]
     },
     "metadata": {},
     "output_type": "display_data"
    },
    {
     "name": "stdout",
     "output_type": "stream",
     "text": [
      "SOFT PALATE.nrrd\n"
     ]
    },
    {
     "data": {
      "text/plain": [
       "<Figure size 432x288 with 0 Axes>"
      ]
     },
     "metadata": {},
     "output_type": "display_data"
    },
    {
     "data": {
      "application/vnd.jupyter.widget-view+json": {
       "model_id": "aec642afd2af4be2a3ff5a9a52b470c1",
       "version_major": 2,
       "version_minor": 0
      },
      "text/plain": [
       "interactive(children=(IntSlider(value=44, description='z', max=89), Output()), _dom_classes=('widget-interact'…"
      ]
     },
     "metadata": {},
     "output_type": "display_data"
    },
    {
     "name": "stdout",
     "output_type": "stream",
     "text": [
      "Larynx.nrrd\n"
     ]
    },
    {
     "data": {
      "text/plain": [
       "<Figure size 432x288 with 0 Axes>"
      ]
     },
     "metadata": {},
     "output_type": "display_data"
    },
    {
     "data": {
      "application/vnd.jupyter.widget-view+json": {
       "model_id": "41a54605844b466fb3e399095dea7655",
       "version_major": 2,
       "version_minor": 0
      },
      "text/plain": [
       "interactive(children=(IntSlider(value=44, description='z', max=89), Output()), _dom_classes=('widget-interact'…"
      ]
     },
     "metadata": {},
     "output_type": "display_data"
    },
    {
     "name": "stdout",
     "output_type": "stream",
     "text": [
      "Inner ear Left.nrrd\n"
     ]
    },
    {
     "data": {
      "text/plain": [
       "<Figure size 432x288 with 0 Axes>"
      ]
     },
     "metadata": {},
     "output_type": "display_data"
    },
    {
     "data": {
      "application/vnd.jupyter.widget-view+json": {
       "model_id": "c36cad0b644043ff90419e66a64759b2",
       "version_major": 2,
       "version_minor": 0
      },
      "text/plain": [
       "interactive(children=(IntSlider(value=44, description='z', max=89), Output()), _dom_classes=('widget-interact'…"
      ]
     },
     "metadata": {},
     "output_type": "display_data"
    },
    {
     "name": "stdout",
     "output_type": "stream",
     "text": [
      "Spinacord.nrrd\n"
     ]
    },
    {
     "data": {
      "text/plain": [
       "<Figure size 432x288 with 0 Axes>"
      ]
     },
     "metadata": {},
     "output_type": "display_data"
    },
    {
     "data": {
      "application/vnd.jupyter.widget-view+json": {
       "model_id": "7c83efb17a954940a4b29ebcc0e8ce5e",
       "version_major": 2,
       "version_minor": 0
      },
      "text/plain": [
       "interactive(children=(IntSlider(value=44, description='z', max=89), Output()), _dom_classes=('widget-interact'…"
      ]
     },
     "metadata": {},
     "output_type": "display_data"
    },
    {
     "name": "stdout",
     "output_type": "stream",
     "text": [
      "Parotid_L.nrrd\n"
     ]
    },
    {
     "data": {
      "text/plain": [
       "<Figure size 432x288 with 0 Axes>"
      ]
     },
     "metadata": {},
     "output_type": "display_data"
    },
    {
     "data": {
      "application/vnd.jupyter.widget-view+json": {
       "model_id": "b76a53ea01ab4577993339e5cb7d07aa",
       "version_major": 2,
       "version_minor": 0
      },
      "text/plain": [
       "interactive(children=(IntSlider(value=44, description='z', max=89), Output()), _dom_classes=('widget-interact'…"
      ]
     },
     "metadata": {},
     "output_type": "display_data"
    },
    {
     "name": "stdout",
     "output_type": "stream",
     "text": [
      "SX BED.nrrd\n"
     ]
    },
    {
     "data": {
      "text/plain": [
       "<Figure size 432x288 with 0 Axes>"
      ]
     },
     "metadata": {},
     "output_type": "display_data"
    },
    {
     "data": {
      "application/vnd.jupyter.widget-view+json": {
       "model_id": "7e2f9192cf45460a9b5494863e675811",
       "version_major": 2,
       "version_minor": 0
      },
      "text/plain": [
       "interactive(children=(IntSlider(value=44, description='z', max=89), Output()), _dom_classes=('widget-interact'…"
      ]
     },
     "metadata": {},
     "output_type": "display_data"
    },
    {
     "name": "stdout",
     "output_type": "stream",
     "text": [
      "LIPS.nrrd\n"
     ]
    },
    {
     "data": {
      "text/plain": [
       "<Figure size 432x288 with 0 Axes>"
      ]
     },
     "metadata": {},
     "output_type": "display_data"
    },
    {
     "data": {
      "application/vnd.jupyter.widget-view+json": {
       "model_id": "ddb55209eb9a4535819de09080749f87",
       "version_major": 2,
       "version_minor": 0
      },
      "text/plain": [
       "interactive(children=(IntSlider(value=44, description='z', max=89), Output()), _dom_classes=('widget-interact'…"
      ]
     },
     "metadata": {},
     "output_type": "display_data"
    },
    {
     "name": "stdout",
     "output_type": "stream",
     "text": [
      "Parotid_R.nrrd\n"
     ]
    },
    {
     "data": {
      "text/plain": [
       "<Figure size 432x288 with 0 Axes>"
      ]
     },
     "metadata": {},
     "output_type": "display_data"
    },
    {
     "data": {
      "application/vnd.jupyter.widget-view+json": {
       "model_id": "815683a615b448fba7dc8087e7ffdb63",
       "version_major": 2,
       "version_minor": 0
      },
      "text/plain": [
       "interactive(children=(IntSlider(value=44, description='z', max=89), Output()), _dom_classes=('widget-interact'…"
      ]
     },
     "metadata": {},
     "output_type": "display_data"
    },
    {
     "name": "stdout",
     "output_type": "stream",
     "text": [
      "Mandible.nrrd\n"
     ]
    },
    {
     "data": {
      "text/plain": [
       "<Figure size 432x288 with 0 Axes>"
      ]
     },
     "metadata": {},
     "output_type": "display_data"
    },
    {
     "data": {
      "application/vnd.jupyter.widget-view+json": {
       "model_id": "5f142e298a9c4da3a1fef25995063bd2",
       "version_major": 2,
       "version_minor": 0
      },
      "text/plain": [
       "interactive(children=(IntSlider(value=44, description='z', max=89), Output()), _dom_classes=('widget-interact'…"
      ]
     },
     "metadata": {},
     "output_type": "display_data"
    }
   ],
   "source": [
    "myshow3d(sitk.GetImageFromArray(nparr))\n",
    "# minv = nparr.min()\n",
    "# maxv = nparr.max()\n",
    "# nparr = (nparr - minv)*1.0 / (1.0*(maxv-minv))\n",
    "# myshow3d(sitk.GetImageFromArray(nparr))\n",
    "for sfnm in os.listdir(path+fnm+'/structures/'):\n",
    "    snparr = sitk.GetArrayFromImage(sitk.ReadImage(path+fnm+'/structures/'+sfnm))\n",
    "    assert snparr.min() == 0 and snparr.max() == 1\n",
    "    snparr = np.array(snparr[minz:maxz, miny:maxy, minx:maxx])\n",
    "    print(sfnm)\n",
    "    s_nparr = np.array(nparr)\n",
    "    s_nparr[snparr != 0] -= 0.2\n",
    "    fig = plt.figure()\n",
    "    myshow3d(sitk.GetImageFromArray(s_nparr))"
   ]
  },
  {
   "cell_type": "code",
   "execution_count": 43,
   "metadata": {},
   "outputs": [],
   "source": [
    "np.save(path+fnm+'/img_crp.npy', nparr)\n",
    "for sfnm in os.listdir(path+fnm+'/structures/'):\n",
    "    snparr = sitk.GetArrayFromImage(sitk.ReadImage(path+fnm+'/structures/'+sfnm))\n",
    "    assert snparr.min() == 0 and snparr.max() == 1\n",
    "    snparr = np.array(snparr[minz:maxz, miny:maxy, minx:maxx])\n",
    "    np.save(path+fnm+'/structures/'+sfnm[:-len('.nrrd')]+'_crp.npy', snparr)"
   ]
  }
 ],
 "metadata": {
  "kernelspec": {
   "display_name": "Python 3",
   "language": "python",
   "name": "python3"
  },
  "language_info": {
   "codemirror_mode": {
    "name": "ipython",
    "version": 3
   },
   "file_extension": ".py",
   "mimetype": "text/x-python",
   "name": "python",
   "nbconvert_exporter": "python",
   "pygments_lexer": "ipython3",
   "version": "3.7.4"
  }
 },
 "nbformat": 4,
 "nbformat_minor": 2
}
