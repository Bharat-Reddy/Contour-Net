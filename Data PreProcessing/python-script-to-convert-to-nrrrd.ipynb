{
 "cells": [
  {
   "cell_type": "code",
   "execution_count": 1,
   "metadata": {},
   "outputs": [],
   "source": [
    "import os\n",
    "rootdir = '/home/bharat/Desktop/FYP/structures_extraction/30-patients-data'\n"
   ]
  },
  {
   "cell_type": "code",
   "execution_count": 2,
   "metadata": {},
   "outputs": [
    {
     "data": {
      "text/plain": [
       "27"
      ]
     },
     "execution_count": 2,
     "metadata": {},
     "output_type": "execute_result"
    }
   ],
   "source": [
    "list_subfolders_with_paths = [f.path for f in os.scandir(rootdir) if f.is_dir()]\n",
    "len(list_subfolders_with_paths)"
   ]
  },
  {
   "cell_type": "code",
   "execution_count": 5,
   "metadata": {
    "scrolled": true
   },
   "outputs": [
    {
     "name": "stdout",
     "output_type": "stream",
     "text": [
      "/home/bharat/Desktop/FYP/structures_extraction/30-patients-data/19RT0583\n",
      "/home/bharat/Desktop/FYP/structures_extraction/30-patients-data/19RT0951\n",
      "/home/bharat/Desktop/FYP/structures_extraction/30-patients-data/20RT0030\n",
      "/home/bharat/Desktop/FYP/structures_extraction/30-patients-data/20RT0039\n",
      "/home/bharat/Desktop/FYP/structures_extraction/30-patients-data/19RT0926\n",
      "/home/bharat/Desktop/FYP/structures_extraction/30-patients-data/19RT0989\n",
      "/home/bharat/Desktop/FYP/structures_extraction/30-patients-data/20RT0020\n",
      "/home/bharat/Desktop/FYP/structures_extraction/30-patients-data/19RT1019\n",
      "/home/bharat/Desktop/FYP/structures_extraction/30-patients-data/20RT0002\n",
      "/home/bharat/Desktop/FYP/structures_extraction/30-patients-data/19RT0700\n",
      "/home/bharat/Desktop/FYP/structures_extraction/30-patients-data/19RT1511\n",
      "/home/bharat/Desktop/FYP/structures_extraction/30-patients-data/19RT0949\n",
      "/home/bharat/Desktop/FYP/structures_extraction/30-patients-data/19RT0337\n",
      "/home/bharat/Desktop/FYP/structures_extraction/30-patients-data/19RT1007\n",
      "/home/bharat/Desktop/FYP/structures_extraction/30-patients-data/20RT0005\n",
      "/home/bharat/Desktop/FYP/structures_extraction/30-patients-data/19RT0994\n",
      "/home/bharat/Desktop/FYP/structures_extraction/30-patients-data/18RT1337\n",
      "/home/bharat/Desktop/FYP/structures_extraction/30-patients-data/19RT0881\n",
      "/home/bharat/Desktop/FYP/structures_extraction/30-patients-data/19RT0987\n",
      "/home/bharat/Desktop/FYP/structures_extraction/30-patients-data/19RT0598\n",
      "/home/bharat/Desktop/FYP/structures_extraction/30-patients-data/19RT1016\n",
      "/home/bharat/Desktop/FYP/structures_extraction/30-patients-data/19RT1493\n",
      "/home/bharat/Desktop/FYP/structures_extraction/30-patients-data/19RT0848\n",
      "/home/bharat/Desktop/FYP/structures_extraction/30-patients-data/20RT0045\n",
      "/home/bharat/Desktop/FYP/structures_extraction/30-patients-data/19RT0438\n",
      "/home/bharat/Desktop/FYP/structures_extraction/30-patients-data/20RT0047\n",
      "/home/bharat/Desktop/FYP/structures_extraction/30-patients-data/19RT0727\n"
     ]
    }
   ],
   "source": [
    "for f in os.scandir(rootdir):\n",
    "    if f.is_dir():\n",
    "        print(f.path)\n",
    "        os.system('rm -rf '+f.path+'/structures/*/')"
   ]
  },
  {
   "cell_type": "code",
   "execution_count": 4,
   "metadata": {},
   "outputs": [
    {
     "name": "stdout",
     "output_type": "stream",
     "text": [
      "/home/bharat/Desktop/FYP/structures_extraction/30-patients-data/19RT0583\n",
      "/home/bharat/Desktop/FYP/structures_extraction/30-patients-data/19RT0951\n",
      "/home/bharat/Desktop/FYP/structures_extraction/30-patients-data/20RT0030\n",
      "/home/bharat/Desktop/FYP/structures_extraction/30-patients-data/20RT0039\n",
      "/home/bharat/Desktop/FYP/structures_extraction/30-patients-data/19RT0926\n",
      "/home/bharat/Desktop/FYP/structures_extraction/30-patients-data/19RT0989\n",
      "/home/bharat/Desktop/FYP/structures_extraction/30-patients-data/20RT0020\n",
      "/home/bharat/Desktop/FYP/structures_extraction/30-patients-data/19RT1019\n",
      "/home/bharat/Desktop/FYP/structures_extraction/30-patients-data/20RT0002\n",
      "/home/bharat/Desktop/FYP/structures_extraction/30-patients-data/19RT0700\n",
      "/home/bharat/Desktop/FYP/structures_extraction/30-patients-data/19RT1511\n",
      "/home/bharat/Desktop/FYP/structures_extraction/30-patients-data/19RT0949\n",
      "/home/bharat/Desktop/FYP/structures_extraction/30-patients-data/19RT0337\n",
      "/home/bharat/Desktop/FYP/structures_extraction/30-patients-data/19RT1007\n",
      "/home/bharat/Desktop/FYP/structures_extraction/30-patients-data/20RT0005\n",
      "/home/bharat/Desktop/FYP/structures_extraction/30-patients-data/19RT0994\n",
      "/home/bharat/Desktop/FYP/structures_extraction/30-patients-data/18RT1337\n",
      "/home/bharat/Desktop/FYP/structures_extraction/30-patients-data/19RT0881\n",
      "/home/bharat/Desktop/FYP/structures_extraction/30-patients-data/19RT0987\n",
      "/home/bharat/Desktop/FYP/structures_extraction/30-patients-data/19RT0598\n",
      "/home/bharat/Desktop/FYP/structures_extraction/30-patients-data/19RT1016\n",
      "/home/bharat/Desktop/FYP/structures_extraction/30-patients-data/19RT1493\n",
      "/home/bharat/Desktop/FYP/structures_extraction/30-patients-data/19RT0848\n",
      "/home/bharat/Desktop/FYP/structures_extraction/30-patients-data/20RT0045\n",
      "/home/bharat/Desktop/FYP/structures_extraction/30-patients-data/19RT0438\n",
      "/home/bharat/Desktop/FYP/structures_extraction/30-patients-data/20RT0047\n",
      "/home/bharat/Desktop/FYP/structures_extraction/30-patients-data/19RT0727\n",
      "/home/bharat/Desktop/FYP/structures_extraction/30-patients-data/19RT0583/structures\n",
      "/home/bharat/Desktop/FYP/structures_extraction/30-patients-data/19RT0583/structures/PTV 25  Gy\n",
      "/home/bharat/Desktop/FYP/structures_extraction/30-patients-data/19RT0951/structures\n",
      "/home/bharat/Desktop/FYP/structures_extraction/30-patients-data/20RT0030/structures\n",
      "/home/bharat/Desktop/FYP/structures_extraction/30-patients-data/20RT0039/structures\n",
      "/home/bharat/Desktop/FYP/structures_extraction/30-patients-data/20RT0039/structures/PTV_66Gy\n",
      "/home/bharat/Desktop/FYP/structures_extraction/30-patients-data/19RT0926/structures\n",
      "/home/bharat/Desktop/FYP/structures_extraction/30-patients-data/19RT0926/structures/PTV 70 \n",
      "/home/bharat/Desktop/FYP/structures_extraction/30-patients-data/19RT0989/structures\n",
      "/home/bharat/Desktop/FYP/structures_extraction/30-patients-data/19RT0989/structures/PTV 45\n",
      "/home/bharat/Desktop/FYP/structures_extraction/30-patients-data/20RT0020/structures\n",
      "/home/bharat/Desktop/FYP/structures_extraction/30-patients-data/19RT1019/structures\n",
      "/home/bharat/Desktop/FYP/structures_extraction/30-patients-data/20RT0002/structures\n",
      "/home/bharat/Desktop/FYP/structures_extraction/30-patients-data/19RT0700/structures\n",
      "/home/bharat/Desktop/FYP/structures_extraction/30-patients-data/19RT1511/structures\n",
      "/home/bharat/Desktop/FYP/structures_extraction/30-patients-data/19RT0949/structures\n",
      "/home/bharat/Desktop/FYP/structures_extraction/30-patients-data/19RT0949/structures/PTV 64Gy\n",
      "/home/bharat/Desktop/FYP/structures_extraction/30-patients-data/19RT0337/structures\n",
      "/home/bharat/Desktop/FYP/structures_extraction/30-patients-data/19RT1007/structures\n",
      "/home/bharat/Desktop/FYP/structures_extraction/30-patients-data/20RT0005/structures\n",
      "/home/bharat/Desktop/FYP/structures_extraction/30-patients-data/20RT0005/structures/PTV 70\n",
      "/home/bharat/Desktop/FYP/structures_extraction/30-patients-data/19RT0994/structures\n",
      "/home/bharat/Desktop/FYP/structures_extraction/30-patients-data/19RT0994/structures/PTV 70\n",
      "/home/bharat/Desktop/FYP/structures_extraction/30-patients-data/19RT0994/structures/PTV 66\n",
      "/home/bharat/Desktop/FYP/structures_extraction/30-patients-data/18RT1337/structures\n",
      "/home/bharat/Desktop/FYP/structures_extraction/30-patients-data/19RT0881/structures\n",
      "/home/bharat/Desktop/FYP/structures_extraction/30-patients-data/19RT0987/structures\n",
      "/home/bharat/Desktop/FYP/structures_extraction/30-patients-data/19RT0987/structures/PTV 70\n",
      "/home/bharat/Desktop/FYP/structures_extraction/30-patients-data/19RT0598/structures\n",
      "/home/bharat/Desktop/FYP/structures_extraction/30-patients-data/19RT0598/structures/PTV_30Gy\n",
      "/home/bharat/Desktop/FYP/structures_extraction/30-patients-data/19RT1016/structures\n",
      "/home/bharat/Desktop/FYP/structures_extraction/30-patients-data/19RT1016/structures/PTV 70 \n",
      "/home/bharat/Desktop/FYP/structures_extraction/30-patients-data/19RT1493/structures\n",
      "/home/bharat/Desktop/FYP/structures_extraction/30-patients-data/19RT0848/structures\n",
      "/home/bharat/Desktop/FYP/structures_extraction/30-patients-data/19RT0848/structures/PTV 60Gy\n",
      "/home/bharat/Desktop/FYP/structures_extraction/30-patients-data/20RT0045/structures\n",
      "/home/bharat/Desktop/FYP/structures_extraction/30-patients-data/20RT0045/structures/PTV 70Gy\n",
      "/home/bharat/Desktop/FYP/structures_extraction/30-patients-data/19RT0438/structures\n",
      "/home/bharat/Desktop/FYP/structures_extraction/30-patients-data/19RT0438/structures/PTV 70\n",
      "/home/bharat/Desktop/FYP/structures_extraction/30-patients-data/20RT0047/structures\n",
      "/home/bharat/Desktop/FYP/structures_extraction/30-patients-data/19RT0727/structures\n"
     ]
    }
   ],
   "source": [
    "for subdir, dirs, files in os.walk(rootdir):\n",
    "    for file in dirs:\n",
    "        print (os.path.join(subdir, file))\n",
    "        a = 'cd ' + os.path.join(subdir, file)\n",
    "        b=' ; plastimatch convert --input . --output-prefix structures --prefix-format nrrd --output-img img.nrrd'\n",
    "        c=' ; cd ..'\n",
    "        os.system(a+b+c)"
   ]
  },
  {
   "cell_type": "code",
   "execution_count": 7,
   "metadata": {},
   "outputs": [
    {
     "name": "stdout",
     "output_type": "stream",
     "text": [
      "1210\n"
     ]
    }
   ],
   "source": [
    "path = '/home/bharat/Desktop/FYP/structures_extraction/total-hospital-data-118-patients/'\n",
    "c=0\n",
    "for r, d, f in os.walk(path):\n",
    "    for file in f:\n",
    "        c=c+1\n",
    "print(c)"
   ]
  }
 ],
 "metadata": {
  "kernelspec": {
   "display_name": "Python 3",
   "language": "python",
   "name": "python3"
  },
  "language_info": {
   "codemirror_mode": {
    "name": "ipython",
    "version": 3
   },
   "file_extension": ".py",
   "mimetype": "text/x-python",
   "name": "python",
   "nbconvert_exporter": "python",
   "pygments_lexer": "ipython3",
   "version": "3.7.4"
  }
 },
 "nbformat": 4,
 "nbformat_minor": 2
}
